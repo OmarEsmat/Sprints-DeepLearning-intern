{
  "nbformat": 4,
  "nbformat_minor": 0,
  "metadata": {
    "colab": {
      "provenance": []
    },
    "kernelspec": {
      "name": "python3",
      "display_name": "Python 3"
    },
    "language_info": {
      "name": "python"
    }
  },
  "cells": [
    {
      "cell_type": "code",
      "execution_count": 7,
      "metadata": {
        "id": "KeUbOhZ7ZCiQ"
      },
      "outputs": [],
      "source": [
        "import spacy\n",
        "import pandas as pd\n",
        "import json\n",
        "import re\n",
        "from spacy import displacy\n"
      ]
    },
    {
      "cell_type": "code",
      "source": [
        "# Load the pre-trained NER model\n",
        "nlp = spacy.load(\"en_core_web_sm\")\n"
      ],
      "metadata": {
        "colab": {
          "base_uri": "https://localhost:8080/"
        },
        "id": "RXwllz8sesa-",
        "outputId": "caa28004-044f-422c-9d8b-f25dfae5ea1d"
      },
      "execution_count": 8,
      "outputs": [
        {
          "output_type": "stream",
          "name": "stderr",
          "text": [
            "/usr/local/lib/python3.11/dist-packages/spacy/util.py:1740: UserWarning: [W111] Jupyter notebook detected: if using `prefer_gpu()` or `require_gpu()`, include it in the same cell right before `spacy.load()` to ensure that the model is loaded on the correct device. More information: http://spacy.io/usage/v3#jupyter-notebook-gpu\n",
            "  warnings.warn(Warnings.W111)\n"
          ]
        }
      ]
    },
    {
      "cell_type": "code",
      "source": [
        "# Sample text data\n",
        "texts = [\n",
        "    \"\"\"\n",
        "    TechCorp, a leading tech company based in New York, announced on Monday that CEO Jane Doe plans to introduce a new AI-powered smartphone.\n",
        "    The device, named 'Nexus X,' will debut in Paris next month. Meanwhile, critics like Dr. Mark Smith argue that the launch could impact environmental policies.\n",
        "    The company also partnered with HealthOrg, a nonprofit, to promote digital wellness. Apple declined to comment on the news.\n",
        "    The event will coincide with the Global Tech Summit 2024.\n",
        "    \"\"\",\n",
        "\n",
        "    \"\"\"\n",
        "    Lionel Messi, the Argentine footballer, signed a $20 million contract with Miami FC on July 15, 2023.\n",
        "    The deal was announced during a press conference at Hard Rock Stadium in Florida.\n",
        "    Fans from across South America flooded social media to celebrate the move.\n",
        "    \"\"\",\n",
        "\n",
        "    \"\"\"\n",
        "    President John Harper met with German Chancellor Angela Weber in Berlin last Friday to discuss NATO policies.\n",
        "    The United Nations will host a climate summit in Geneva, Switzerland, in December 2025.\n",
        "    Critics warn that the new tax law (HB 1420) might face delays in Congress.\n",
        "    \"\"\",\n",
        "\n",
        "    \"\"\"\n",
        "    Marie Curie, born in Warsaw in 1867, discovered radium and won the Nobel Prize in Chemistry in 1911.\n",
        "    In \"The Great Gatsby,\" Jay Gatsby hosts lavish parties in West Egg, New York, reflecting the excesses of the Jazz Age.\n",
        "    A recent study in Nature Journal links sleep deprivation to decreased cognitive performance.\n",
        "    \"\"\"\n",
        "]"
      ],
      "metadata": {
        "id": "hMvY3-Koe8cv"
      },
      "execution_count": 9,
      "outputs": []
    },
    {
      "cell_type": "markdown",
      "source": [
        "# Data Preparation"
      ],
      "metadata": {
        "id": "Y1f3y5TMjZ8E"
      }
    },
    {
      "cell_type": "code",
      "source": [
        "# Preprocessing function\n",
        "def preprocess_text(text):\n",
        "    text = text.lower()  # Convert to lowercase\n",
        "    text = re.sub(r'[^a-zA-Z0-9.,\\s]', '', text)  # Remove special characters except common punctuation\n",
        "    return text"
      ],
      "metadata": {
        "id": "QueMKaHme8bk"
      },
      "execution_count": 10,
      "outputs": []
    },
    {
      "cell_type": "code",
      "source": [
        "# Apply preprocessing\n",
        "texts = [preprocess_text(text) for text in texts]\n"
      ],
      "metadata": {
        "id": "i0-LZphDe8Yz"
      },
      "execution_count": 11,
      "outputs": []
    },
    {
      "cell_type": "markdown",
      "source": [
        "# NER Implementation"
      ],
      "metadata": {
        "id": "1N8VJugijk8q"
      }
    },
    {
      "cell_type": "code",
      "source": [
        "# Function to extract named entities\n",
        "def extract_entities(texts):\n",
        "    entities_list = []\n",
        "    for text in texts:\n",
        "        doc = nlp(text)\n",
        "        for ent in doc.ents:\n",
        "            entities_list.append({\"Entity\": ent.text, \"Label\": ent.label_})\n",
        "    return entities_list"
      ],
      "metadata": {
        "id": "BtK-S0Vae8XL"
      },
      "execution_count": 12,
      "outputs": []
    },
    {
      "cell_type": "code",
      "source": [
        "# Extract entities\n",
        "extracted_entities = extract_entities(texts)\n"
      ],
      "metadata": {
        "id": "PoPco3J8e8U7"
      },
      "execution_count": 13,
      "outputs": []
    },
    {
      "cell_type": "markdown",
      "source": [
        "# Visualization & Evaluation"
      ],
      "metadata": {
        "id": "wQLuNXKBjuFC"
      }
    },
    {
      "cell_type": "code",
      "source": [
        "# Convert to DataFrame\n",
        "entities_df = pd.DataFrame(extracted_entities)\n"
      ],
      "metadata": {
        "id": "aSkm0UXge8Sz"
      },
      "execution_count": 14,
      "outputs": []
    },
    {
      "cell_type": "code",
      "source": [
        "# Display entities visually for the first sample text\n",
        "displacy.render(nlp(texts[0]), style=\"ent\", jupyter=True)"
      ],
      "metadata": {
        "colab": {
          "base_uri": "https://localhost:8080/",
          "height": 192
        },
        "id": "lc6TbNdDe8Qb",
        "outputId": "f0ad2815-3d3b-4b32-d522-19e7eb1d0a4f"
      },
      "execution_count": 15,
      "outputs": [
        {
          "output_type": "display_data",
          "data": {
            "text/plain": [
              "<IPython.core.display.HTML object>"
            ],
            "text/html": [
              "<span class=\"tex2jax_ignore\"><div class=\"entities\" style=\"line-height: 2.5; direction: ltr\"><br>    techcorp, a leading tech company based in \n",
              "<mark class=\"entity\" style=\"background: #feca74; padding: 0.45em 0.6em; margin: 0 0.25em; line-height: 1; border-radius: 0.35em;\">\n",
              "    new york\n",
              "    <span style=\"font-size: 0.8em; font-weight: bold; line-height: 1; border-radius: 0.35em; vertical-align: middle; margin-left: 0.5rem\">GPE</span>\n",
              "</mark>\n",
              ", announced on \n",
              "<mark class=\"entity\" style=\"background: #bfe1d9; padding: 0.45em 0.6em; margin: 0 0.25em; line-height: 1; border-radius: 0.35em;\">\n",
              "    monday\n",
              "    <span style=\"font-size: 0.8em; font-weight: bold; line-height: 1; border-radius: 0.35em; vertical-align: middle; margin-left: 0.5rem\">DATE</span>\n",
              "</mark>\n",
              " that ceo jane doe plans to introduce a new aipowered smartphone.<br>    the device, named nexus x, will debut in \n",
              "<mark class=\"entity\" style=\"background: #feca74; padding: 0.45em 0.6em; margin: 0 0.25em; line-height: 1; border-radius: 0.35em;\">\n",
              "    paris\n",
              "    <span style=\"font-size: 0.8em; font-weight: bold; line-height: 1; border-radius: 0.35em; vertical-align: middle; margin-left: 0.5rem\">GPE</span>\n",
              "</mark>\n",
              " \n",
              "<mark class=\"entity\" style=\"background: #bfe1d9; padding: 0.45em 0.6em; margin: 0 0.25em; line-height: 1; border-radius: 0.35em;\">\n",
              "    next month\n",
              "    <span style=\"font-size: 0.8em; font-weight: bold; line-height: 1; border-radius: 0.35em; vertical-align: middle; margin-left: 0.5rem\">DATE</span>\n",
              "</mark>\n",
              ". meanwhile, critics like dr. \n",
              "<mark class=\"entity\" style=\"background: #aa9cfc; padding: 0.45em 0.6em; margin: 0 0.25em; line-height: 1; border-radius: 0.35em;\">\n",
              "    mark smith\n",
              "    <span style=\"font-size: 0.8em; font-weight: bold; line-height: 1; border-radius: 0.35em; vertical-align: middle; margin-left: 0.5rem\">PERSON</span>\n",
              "</mark>\n",
              " argue that the launch could impact environmental policies.<br>    the company also partnered with \n",
              "<mark class=\"entity\" style=\"background: #7aecec; padding: 0.45em 0.6em; margin: 0 0.25em; line-height: 1; border-radius: 0.35em;\">\n",
              "    healthorg\n",
              "    <span style=\"font-size: 0.8em; font-weight: bold; line-height: 1; border-radius: 0.35em; vertical-align: middle; margin-left: 0.5rem\">ORG</span>\n",
              "</mark>\n",
              ", a nonprofit, to promote digital wellness. \n",
              "<mark class=\"entity\" style=\"background: #7aecec; padding: 0.45em 0.6em; margin: 0 0.25em; line-height: 1; border-radius: 0.35em;\">\n",
              "    apple\n",
              "    <span style=\"font-size: 0.8em; font-weight: bold; line-height: 1; border-radius: 0.35em; vertical-align: middle; margin-left: 0.5rem\">ORG</span>\n",
              "</mark>\n",
              " declined to comment on the news.<br>    the event will coincide with the global tech summit \n",
              "<mark class=\"entity\" style=\"background: #bfe1d9; padding: 0.45em 0.6em; margin: 0 0.25em; line-height: 1; border-radius: 0.35em;\">\n",
              "    2024\n",
              "    <span style=\"font-size: 0.8em; font-weight: bold; line-height: 1; border-radius: 0.35em; vertical-align: middle; margin-left: 0.5rem\">DATE</span>\n",
              "</mark>\n",
              ".<br>    </div></span>"
            ]
          },
          "metadata": {}
        }
      ]
    },
    {
      "cell_type": "markdown",
      "source": [
        "# NER Output"
      ],
      "metadata": {
        "id": "Jt-VEh0EjxGd"
      }
    },
    {
      "cell_type": "code",
      "source": [
        "# Save to CSV\n",
        "entities_df.to_csv(\"ner_output.csv\", index=False)\n",
        "\n",
        "# Save to JSON\n",
        "with open(\"ner_output.json\", \"w\") as json_file:\n",
        "    json.dump(extracted_entities, json_file, indent=4)"
      ],
      "metadata": {
        "id": "PzFLY6qGe8OL"
      },
      "execution_count": 16,
      "outputs": []
    },
    {
      "cell_type": "code",
      "source": [
        "# Save annotated text as an HTML file\n",
        "html_file = \"annotated_sample_text.html\"\n",
        "\n",
        "# Render the visualization to a string\n",
        "html_output = displacy.render(nlp(texts[0]), style=\"ent\", page=True, jupyter=False)\n",
        "\n",
        "# Write the HTML output to a file\n",
        "with open(html_file, \"w\") as file:\n",
        "    file.write(html_output)\n",
        "\n",
        "print(f\"Annotated sample text saved as {html_file}\")\n"
      ],
      "metadata": {
        "colab": {
          "base_uri": "https://localhost:8080/"
        },
        "id": "MxNUKwLtgDci",
        "outputId": "432ccc43-01aa-4c0b-eb7f-e574fc9ea17c"
      },
      "execution_count": 19,
      "outputs": [
        {
          "output_type": "stream",
          "name": "stdout",
          "text": [
            "Annotated sample text saved as annotated_sample_text.html\n"
          ]
        }
      ]
    },
    {
      "cell_type": "code",
      "source": [],
      "metadata": {
        "id": "ls-b_7hOouuJ"
      },
      "execution_count": null,
      "outputs": []
    }
  ]
}